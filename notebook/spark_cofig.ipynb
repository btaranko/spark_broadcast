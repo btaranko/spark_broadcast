{
 "cells": [
  {
   "cell_type": "code",
   "execution_count": 1,
   "id": "83b2e90f",
   "metadata": {},
   "outputs": [
    {
     "name": "stderr",
     "output_type": "stream",
     "text": [
      "/home/bor/.local/lib/python3.6/site-packages/pyspark/context.py:238: FutureWarning: Python 3.6 support is deprecated in Spark 3.2.\n",
      "  FutureWarning\n"
     ]
    }
   ],
   "source": [
    "from pyspark.sql import SparkSession\n",
    "from pyspark import SparkConf\n",
    "\n",
    "# Configure Spark session here. Follow config below:\n",
    "# memory per executor = 6 gb\n",
    "# cores per executor = 1\n",
    "# max cores = 2\n",
    "# memory for driver = 1 gb\n",
    "\n",
    "conf = SparkConf().setAll([('spark.executor.memory', '6g'),\n",
    "                           ('spark.executor.cores', '1'),\n",
    "                           ('spark.cores.max', '2'),\n",
    "                           ('spark.driver.memory', '1g')])\n",
    "\n",
    "# Start Spark Session:\n",
    "spark = SparkSession.builder.config(conf=conf).appName(\"TestSparkSessionConfiguration\").getOrCreate()\n"
   ]
  },
  {
   "cell_type": "code",
   "execution_count": 2,
   "id": "eb42b142",
   "metadata": {},
   "outputs": [
    {
     "name": "stdout",
     "output_type": "stream",
     "text": [
      "Current spark config:\n",
      "\u001b[32m('spark.driver.extraJavaOptions', '-XX:+IgnoreUnrecognizedVMOptions --add-opens=java.base/java.lang=ALL-UNNAMED --add-opens=java.base/java.lang.invoke=ALL-UNNAMED --add-opens=java.base/java.lang.reflect=ALL-UNNAMED --add-opens=java.base/java.io=ALL-UNNAMED --add-opens=java.base/java.net=ALL-UNNAMED --add-opens=java.base/java.nio=ALL-UNNAMED --add-opens=java.base/java.util=ALL-UNNAMED --add-opens=java.base/java.util.concurrent=ALL-UNNAMED --add-opens=java.base/java.util.concurrent.atomic=ALL-UNNAMED --add-opens=java.base/sun.nio.ch=ALL-UNNAMED --add-opens=java.base/sun.nio.cs=ALL-UNNAMED --add-opens=java.base/sun.security.action=ALL-UNNAMED --add-opens=java.base/sun.util.calendar=ALL-UNNAMED --add-opens=java.security.jgss/sun.security.krb5=ALL-UNNAMED')\n",
      "\u001b[32m('spark.app.initial.jar.urls', 'spark://crazylab:44973/jars/org.codehaus.jackson_jackson-core-asl-1.9.13.jar,spark://crazylab:44973/jars/io.delta_delta-storage-2.1.0.jar,spark://crazylab:44973/jars/io.delta_delta-core_2.12-2.1.0.jar,spark://crazylab:44973/jars/org.antlr_antlr4-runtime-4.8.jar')\n",
      "\u001b[32m('spark.app.initial.file.urls', 'spark://crazylab:44973/files/io.delta_delta-core_2.12-2.1.0.jar,spark://crazylab:44973/files/org.antlr_antlr4-runtime-4.8.jar,spark://crazylab:44973/files/io.delta_delta-storage-2.1.0.jar,spark://crazylab:44973/files/org.codehaus.jackson_jackson-core-asl-1.9.13.jar')\n",
      "\u001b[32m('spark.app.id', 'app-20230109162007-0034')\n",
      "\u001b[32m('spark.jars.packages', 'io.delta:delta-core_2.12:2.1.0')\n",
      "\u001b[32m('spark.sql.warehouse.dir', 'file:/home/bor/PycharmProjects/spark_broadcast/notebook/spark-warehouse')\n",
      "\u001b[32m('spark.submit.pyFiles', '/home/bor/.ivy2/jars/io.delta_delta-core_2.12-2.1.0.jar,/home/bor/.ivy2/jars/io.delta_delta-storage-2.1.0.jar,/home/bor/.ivy2/jars/org.antlr_antlr4-runtime-4.8.jar,/home/bor/.ivy2/jars/org.codehaus.jackson_jackson-core-asl-1.9.13.jar')\n",
      "\u001b[32m('spark.executor.id', 'driver')\n",
      "\u001b[32m('spark.driver.host', 'crazylab')\n",
      "\u001b[32m('spark.app.submitTime', '1673277606645')\n",
      "\u001b[32m('spark.app.name', 'TestSparkSessionConfiguration')\n",
      "\u001b[32m('spark.driver.memory', '1g')\n",
      "\u001b[32m('spark.executor.memory', '6g')\n",
      "\u001b[32m('spark.repl.local.jars', 'file:///home/bor/.ivy2/jars/io.delta_delta-core_2.12-2.1.0.jar,file:///home/bor/.ivy2/jars/io.delta_delta-storage-2.1.0.jar,file:///home/bor/.ivy2/jars/org.antlr_antlr4-runtime-4.8.jar,file:///home/bor/.ivy2/jars/org.codehaus.jackson_jackson-core-asl-1.9.13.jar')\n",
      "\u001b[32m('spark.master', 'spark://localhost:7077')\n",
      "\u001b[32m('spark.rdd.compress', 'True')\n",
      "\u001b[32m('spark.executor.extraJavaOptions', '-XX:+IgnoreUnrecognizedVMOptions --add-opens=java.base/java.lang=ALL-UNNAMED --add-opens=java.base/java.lang.invoke=ALL-UNNAMED --add-opens=java.base/java.lang.reflect=ALL-UNNAMED --add-opens=java.base/java.io=ALL-UNNAMED --add-opens=java.base/java.net=ALL-UNNAMED --add-opens=java.base/java.nio=ALL-UNNAMED --add-opens=java.base/java.util=ALL-UNNAMED --add-opens=java.base/java.util.concurrent=ALL-UNNAMED --add-opens=java.base/java.util.concurrent.atomic=ALL-UNNAMED --add-opens=java.base/sun.nio.ch=ALL-UNNAMED --add-opens=java.base/sun.nio.cs=ALL-UNNAMED --add-opens=java.base/sun.security.action=ALL-UNNAMED --add-opens=java.base/sun.util.calendar=ALL-UNNAMED --add-opens=java.security.jgss/sun.security.krb5=ALL-UNNAMED')\n",
      "\u001b[32m('spark.files', 'file:///home/bor/.ivy2/jars/io.delta_delta-core_2.12-2.1.0.jar,file:///home/bor/.ivy2/jars/io.delta_delta-storage-2.1.0.jar,file:///home/bor/.ivy2/jars/org.antlr_antlr4-runtime-4.8.jar,file:///home/bor/.ivy2/jars/org.codehaus.jackson_jackson-core-asl-1.9.13.jar')\n",
      "\u001b[32m('spark.driver.port', '44973')\n",
      "\u001b[32m('spark.serializer.objectStreamReset', '100')\n",
      "\u001b[32m('spark.cores.max', '2')\n",
      "\u001b[32m('spark.executor.cores', '1')\n",
      "\u001b[32m('spark.submit.deployMode', 'client')\n",
      "\u001b[32m('spark.app.startTime', '1673277606791')\n",
      "\u001b[32m('spark.ui.showConsoleProgress', 'true')\n",
      "\u001b[32m('spark.jars', 'file:///home/bor/.ivy2/jars/io.delta_delta-core_2.12-2.1.0.jar,file:///home/bor/.ivy2/jars/io.delta_delta-storage-2.1.0.jar,file:///home/bor/.ivy2/jars/org.antlr_antlr4-runtime-4.8.jar,file:///home/bor/.ivy2/jars/org.codehaus.jackson_jackson-core-asl-1.9.13.jar')\n"
     ]
    }
   ],
   "source": [
    "print('Current spark config:')\n",
    "configurations = spark.sparkContext.getConf().getAll()\n",
    "for item in configurations:\n",
    "    print('\\033[32m' + str(item))"
   ]
  },
  {
   "cell_type": "code",
   "execution_count": 3,
   "id": "9743c5db",
   "metadata": {},
   "outputs": [
    {
     "name": "stdout",
     "output_type": "stream",
     "text": [
      "Checking memory per executor...\n",
      "Checking cores per executor...\n",
      "Checking max cores...\n",
      "Checking memory for driver...\n",
      "All tests passed.\n"
     ]
    }
   ],
   "source": [
    "# Testing Spark session configuration\n",
    "\n",
    "print('Checking memory per executor...')\n",
    "result_value = list(filter(lambda tup: tup[0] == 'spark.executor.memory', configurations))[0][1]\n",
    "assert result_value == '6g', 'Wrong memory per executor. Use spark.executor.memory!'\n",
    "\n",
    "print('Checking cores per executor...')\n",
    "result_value = list(filter(lambda tup: tup[0] == 'spark.executor.cores', configurations))[0][1]\n",
    "assert result_value == '1', 'Wrong cores per executor. Use spark.executor.cores!'\n",
    "\n",
    "print('Checking max cores...')\n",
    "result_value = list(filter(lambda tup: tup[0] == 'spark.cores.max', configurations))[0][1]\n",
    "assert result_value == '2', 'Wrong max cores. Use spark.cores.max!'\n",
    "\n",
    "print('Checking memory for driver...')\n",
    "result_value = list(filter(lambda tup: tup[0] == 'spark.driver.memory', configurations))[0][1]\n",
    "assert result_value == '1g', 'Wrong memory for driver. Use spark.driver.memory!'\n",
    "\n",
    "print('All tests passed.')\n"
   ]
  },
  {
   "cell_type": "code",
   "execution_count": 4,
   "id": "655d1e2e",
   "metadata": {},
   "outputs": [],
   "source": [
    "# Stop Spark session:\n",
    "spark.stop()"
   ]
  },
  {
   "cell_type": "code",
   "execution_count": null,
   "id": "672fa7a4",
   "metadata": {},
   "outputs": [],
   "source": []
  }
 ],
 "metadata": {
  "kernelspec": {
   "display_name": "Python 3",
   "language": "python",
   "name": "python3"
  },
  "language_info": {
   "codemirror_mode": {
    "name": "ipython",
    "version": 3
   },
   "file_extension": ".py",
   "mimetype": "text/x-python",
   "name": "python",
   "nbconvert_exporter": "python",
   "pygments_lexer": "ipython3",
   "version": "3.6.15"
  }
 },
 "nbformat": 4,
 "nbformat_minor": 5
}
